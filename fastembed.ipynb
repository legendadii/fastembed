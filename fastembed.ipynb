{
 "cells": [
  {
   "cell_type": "code",
   "execution_count": 1,
   "metadata": {},
   "outputs": [],
   "source": [
    "import numpy as np\n",
    "import pandas as pd\n",
    "import matplotlib.pyplot as plt\n",
    "import seaborn as sns\n",
    "\n",
    "import re\n",
    "from bs4 import BeautifulSoup\n",
    "\n",
    "import warnings\n",
    "warnings.filterwarnings('ignore')"
   ]
  },
  {
   "cell_type": "code",
   "execution_count": 2,
   "metadata": {},
   "outputs": [],
   "source": [
    "df = pd.read_csv(\"C:\\\\Users\\\\DELL\\\\Desktop\\\\python\\\\reinforcement\\\\models\\\\ml_project_Quora_question_pair_similarity\\\\dataset\\\\train.csv\")"
   ]
  },
  {
   "cell_type": "code",
   "execution_count": 4,
   "metadata": {},
   "outputs": [
    {
     "name": "stdout",
     "output_type": "stream",
     "text": [
      "Total Questions: 537361\n",
      "First 10 Questions:\n"
     ]
    },
    {
     "data": {
      "text/plain": [
       "330399    Why is it so hard for the FBI to unlock an iPh...\n",
       "308642                     Are clothes really easy to tear?\n",
       "72364     If we have a binary heap of n elements and wis...\n",
       "267707    Most of them says that mother loves her son mo...\n",
       "386526    Celebrity popularity meter. Would you check it...\n",
       "29904     What is the precise meaning of the sanskrit wo...\n",
       "101343    Can we do MBA in hr after company secretary an...\n",
       "97745     Which are some of the best books written on Wo...\n",
       "393412       Should mushrooms be considered veg or non-veg?\n",
       "295637                    How do I turn off screen overlay?\n",
       "dtype: object"
      ]
     },
     "execution_count": 4,
     "metadata": {},
     "output_type": "execute_result"
    }
   ],
   "source": [
    "questions = pd.concat([df['question1'], df['question2']], axis=0)\n",
    "N = 30_000\n",
    "\n",
    "questions = questions.drop_duplicates()\n",
    "\n",
    "print(\"Total Questions:\", len(questions))\n",
    "\n",
    "questions = questions.sample(N)\n",
    "\n",
    "print(\"First 10 Questions:\")\n",
    "questions.iloc[:10]"
   ]
  },
  {
   "cell_type": "code",
   "execution_count": 7,
   "metadata": {},
   "outputs": [
    {
     "name": "stderr",
     "output_type": "stream",
     "text": [
      "100%|██████████| 77.7M/77.7M [00:11<00:00, 6.71MiB/s]\n"
     ]
    },
    {
     "name": "stdout",
     "output_type": "stream",
     "text": [
      "Completed\n"
     ]
    }
   ],
   "source": [
    "from qdrant_client import QdrantClient\n",
    "QD_COLLECTION_NAME = \"collection_name\"\n",
    "client = QdrantClient(\":memory:\")\n",
    "\n",
    "client.add(\n",
    "    collection_name=QD_COLLECTION_NAME,\n",
    "    documents=questions,\n",
    ")\n",
    "\n",
    "print(\"Completed\")"
   ]
  },
  {
   "cell_type": "code",
   "execution_count": 8,
   "metadata": {},
   "outputs": [],
   "source": [
    "def search(query):\n",
    "    results = client.query(\n",
    "        collection_name=QD_COLLECTION_NAME,\n",
    "        query_text=query,\n",
    "        limit=5\n",
    "    )\n",
    "    print(\"Query:\", query)\n",
    "    for i, result in enumerate(results):\n",
    "        print()\n",
    "        print(f\"{i+1}) {result.document}\")"
   ]
  },
  {
   "cell_type": "code",
   "execution_count": 9,
   "metadata": {},
   "outputs": [
    {
     "name": "stdout",
     "output_type": "stream",
     "text": [
      "Query: How should one introduce themselves?\n",
      "\n",
      "1) How can I introduce myself in an interview?\n",
      "\n",
      "2) How do I introduce myself to the interviewers?\n",
      "\n",
      "3) How do I introduce myself in an interview at school?\n",
      "\n",
      "4) What is the best way to personally develop yourself?\n",
      "\n",
      "5) How do you introduce yourself to a beautiful woman for the first time?\n"
     ]
    }
   ],
   "source": [
    "search(\"How should one introduce themselves?\")"
   ]
  },
  {
   "cell_type": "code",
   "execution_count": null,
   "metadata": {},
   "outputs": [],
   "source": []
  },
  {
   "cell_type": "code",
   "execution_count": null,
   "metadata": {},
   "outputs": [],
   "source": []
  },
  {
   "cell_type": "code",
   "execution_count": null,
   "metadata": {},
   "outputs": [],
   "source": []
  }
 ],
 "metadata": {
  "kernelspec": {
   "display_name": "Python 3",
   "language": "python",
   "name": "python3"
  },
  "language_info": {
   "codemirror_mode": {
    "name": "ipython",
    "version": 3
   },
   "file_extension": ".py",
   "mimetype": "text/x-python",
   "name": "python",
   "nbconvert_exporter": "python",
   "pygments_lexer": "ipython3",
   "version": "3.11.8"
  },
  "orig_nbformat": 4
 },
 "nbformat": 4,
 "nbformat_minor": 2
}
